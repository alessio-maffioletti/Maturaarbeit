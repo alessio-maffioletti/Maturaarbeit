{
 "cells": [
  {
   "cell_type": "code",
   "execution_count": 1,
   "metadata": {},
   "outputs": [],
   "source": [
    "import matplotlib.pyplot as plt\n",
    "import numpy as np\n",
    "import seaborn as sns\n",
    "from tensorflow.keras.datasets import mnist\n",
    "from tensorflow.keras import utils\n",
    "from sklearn.preprocessing import MinMaxScaler\n",
    "import tensorflow as tf"
   ]
  },
  {
   "cell_type": "code",
   "execution_count": 2,
   "metadata": {},
   "outputs": [],
   "source": [
    "(X_train, y_train), (X_test, y_test) = mnist.load_data()"
   ]
  },
  {
   "cell_type": "code",
   "execution_count": 3,
   "metadata": {},
   "outputs": [],
   "source": [
    "#onehot encode labels\n",
    "y_train = utils.to_categorical(y_train, 10)\n",
    "y_test = utils.to_categorical(y_test, 10)"
   ]
  },
  {
   "cell_type": "code",
   "execution_count": 4,
   "metadata": {},
   "outputs": [
    {
     "name": "stdout",
     "output_type": "stream",
     "text": [
      "(10000, 28, 28)\n"
     ]
    }
   ],
   "source": [
    "print(X_test.shape)"
   ]
  },
  {
   "cell_type": "code",
   "execution_count": 5,
   "metadata": {},
   "outputs": [],
   "source": [
    "def place_image_on_canvas(image, width=1200, height=1200):\n",
    "    \"\"\"\n",
    "    Place a single MNIST image at a random location on a blank canvas of given dimensions.\n",
    "    \"\"\"\n",
    "    # Create a blank canvas\n",
    "    canvas = np.zeros((height, width))\n",
    "\n",
    "    # Image dimensions\n",
    "    img_height, img_width = image.shape\n",
    "\n",
    "    # Ensure the image fits: choose random coordinates for the top-left corner\n",
    "    max_x, max_y = width - img_width, height - img_height\n",
    "    x, y = np.random.randint(0, max_x), np.random.randint(0, max_y)\n",
    "\n",
    "    # Place the image on the canvas\n",
    "    canvas[y:y+img_height, x:x+img_width] = image\n",
    "\n",
    "    return canvas, (x, y)\n",
    "\n",
    "\n",
    "def create_dataset(list_img, list_labels, n_images=100):\n",
    "    \"\"\"\n",
    "    Create a dataset of n_images of MNIST placed randomly on individual 1200x1200 canvases.\n",
    "    \"\"\"\n",
    "    X = []\n",
    "    #y = []\n",
    "    coords_x = []\n",
    "    coords_y = []\n",
    "    labels = []\n",
    "    for i in range(n_images):\n",
    "        image = list_img[i]\n",
    "        # Create a canvas with the image placed randomly\n",
    "        canvas, (x, y) = place_image_on_canvas(image, width=128, height=128)\n",
    "        canvas = canvas.reshape(128, 128, 1)\n",
    "        #flat_canvas = canvas_norm.flatten()\n",
    "        # Add the canvas to the dataset\n",
    "        X.append(canvas)\n",
    "        labels.append(list_labels[i])\n",
    "        coords_x.append(x)\n",
    "        coords_y.append(y)\n",
    "    \n",
    "    X = np.array(X)\n",
    "    coords = np.array([coords_x, coords_y]).T\n",
    "    #X = X.reshape(X.shape[0], 128, 128, 1)\n",
    "\n",
    "    return X, coords, labels"
   ]
  },
  {
   "cell_type": "code",
   "execution_count": 6,
   "metadata": {},
   "outputs": [],
   "source": [
    "def _bytes_feature(value):\n",
    "  \"\"\"Returns a bytes_list from a string / byte.\"\"\"\n",
    "  if isinstance(value, type(tf.constant(0))):\n",
    "    value = value.numpy() # BytesList won't unpack a string from an EagerTensor.\n",
    "  return tf.train.Feature(bytes_list=tf.train.BytesList(value=[value]))\n",
    "\n",
    "\n",
    "def example_test(image, label):\n",
    "    feature = {\n",
    "        'image': _bytes_feature(image),\n",
    "        'label': _bytes_feature(label)\n",
    "    }\n",
    "    #print(f'feature: {feature[\"label\"]}')\n",
    "    return tf.train.Example(features=tf.train.Features(feature=feature))\n",
    "\n",
    "def write_in_batches(data, filename, coords=True):\n",
    "    with tf.io.TFRecordWriter(filename) as writer:\n",
    "        for images, labels in data:\n",
    "            # Serialize images and labels as tensors\n",
    "            image_tesnor = tf.convert_to_tensor(images)\n",
    "            print(image_tesnor.shape)\n",
    "            \n",
    "            serialized_image = tf.io.serialize_tensor(image_tesnor).numpy()\n",
    "            #labels_unonehot = np.argmax(labels, axis=-1)  # Convert one-hot labels to class indices\n",
    "            if coords:\n",
    "              label_tensor = tf.convert_to_tensor(labels)\n",
    "              #reshaped_tensor = tf.expand_dims(label_tensor, axis=-1)  # Adds a new dimension at the last axis\n",
    "              print(label_tensor.shape)\n",
    "\n",
    "              serialized_label = tf.io.serialize_tensor(label_tensor).numpy()\n",
    "            else:\n",
    "              label_tensor = tf.reshape(tf.convert_to_tensor(labels), [-1])\n",
    "              reshaped_tensor = tf.expand_dims(label_tensor, axis=-1)  # Adds a new dimension at the last axis\n",
    "              print(reshaped_tensor.shape)\n",
    "\n",
    "              serialized_label = tf.io.serialize_tensor(reshaped_tensor).numpy()\n",
    "\n",
    "            \n",
    "            # Create tf.train.Example and write it to the file\n",
    "            tf_example = example_test(serialized_image, serialized_label)\n",
    "            writer.write(tf_example.SerializeToString())"
   ]
  },
  {
   "cell_type": "code",
   "execution_count": 7,
   "metadata": {},
   "outputs": [],
   "source": [
    "def data_generator(x, y, batch_size=128):\n",
    "    for i in range(0, len(x), batch_size):\n",
    "        yield x[i:i+batch_size], y[i:i+batch_size]\n",
    "\n",
    "def create_tf_dataset(x, y, batch_size=128, out_shape = (128, 10)):\n",
    "    dataset = tf.data.Dataset.from_generator(\n",
    "        lambda: data_generator(x, y, batch_size),\n",
    "        output_signature=(\n",
    "            tf.TensorSpec(shape=(128,128,128,1), dtype=tf.float32),  # Adjust shape if needed\n",
    "            tf.TensorSpec(shape=out_shape, dtype=tf.int32)  # Adjust shape if needed\n",
    "        )\n",
    "    )\n",
    "    return dataset"
   ]
  },
  {
   "cell_type": "code",
   "execution_count": 8,
   "metadata": {},
   "outputs": [],
   "source": [
    "X_train_canvas, coords, y_train = create_dataset(X_train, y_train, n_images=1280) #59904\n",
    "X_test_canvas, coords_test, y_test = create_dataset(X_test, y_test, n_images=1280) #9984"
   ]
  },
  {
   "cell_type": "code",
   "execution_count": 9,
   "metadata": {},
   "outputs": [],
   "source": [
    "train_dataset = create_tf_dataset(X_train_canvas, y_train)\n",
    "test_dataset = create_tf_dataset(X_test_canvas, y_test)\n",
    "train_coords_dataset = create_tf_dataset(X_train_canvas, coords, out_shape=(128,2))\n",
    "test_coords_dataset = create_tf_dataset(X_test_canvas, coords_test, out_shape=(128,2))"
   ]
  },
  {
   "cell_type": "code",
   "execution_count": 10,
   "metadata": {},
   "outputs": [
    {
     "name": "stdout",
     "output_type": "stream",
     "text": [
      "(128, 128, 128, 1) (128, 2)\n",
      "(128, 128, 128, 1) (128, 2)\n",
      "(128, 128, 128, 1) (128, 2)\n",
      "(128, 128, 128, 1) (128, 2)\n",
      "(128, 128, 128, 1) (128, 2)\n",
      "(128, 128, 128, 1) (128, 2)\n",
      "(128, 128, 128, 1) (128, 2)\n",
      "(128, 128, 128, 1) (128, 2)\n",
      "(128, 128, 128, 1) (128, 2)\n",
      "(128, 128, 128, 1) (128, 2)\n"
     ]
    },
    {
     "data": {
      "image/png": "[encoded data removed]",
      "text/plain": [
       "<Figure size 640x480 with 1 Axes>"
      ]
     },
     "metadata": {},
     "output_type": "display_data"
    }
   ],
   "source": [
    "for a in train_coords_dataset:\n",
    "    image, coords = a\n",
    "    print(image.shape, coords.shape)\n",
    "    plt.imshow(image[0])\n",
    "    plt.title(f'{coords[0]}')"
   ]
  },
  {
   "cell_type": "code",
   "execution_count": 11,
   "metadata": {},
   "outputs": [
    {
     "name": "stdout",
     "output_type": "stream",
     "text": [
      "(128, 128, 128, 1)\n",
      "(128, 10)\n",
      "(128, 128, 128, 1)\n",
      "(128, 10)\n",
      "(128, 128, 128, 1)\n",
      "(128, 10)\n",
      "(128, 128, 128, 1)\n",
      "(128, 10)\n",
      "(128, 128, 128, 1)\n",
      "(128, 10)\n",
      "(128, 128, 128, 1)\n",
      "(128, 10)\n",
      "(128, 128, 128, 1)\n",
      "(128, 10)\n",
      "(128, 128, 128, 1)\n",
      "(128, 10)\n",
      "(128, 128, 128, 1)\n",
      "(128, 10)\n",
      "(128, 128, 128, 1)\n",
      "(128, 10)\n",
      "(128, 128, 128, 1)\n",
      "(128, 10)\n",
      "(128, 128, 128, 1)\n",
      "(128, 10)\n",
      "(128, 128, 128, 1)\n",
      "(128, 10)\n",
      "(128, 128, 128, 1)\n",
      "(128, 10)\n",
      "(128, 128, 128, 1)\n",
      "(128, 10)\n",
      "(128, 128, 128, 1)\n",
      "(128, 10)\n",
      "(128, 128, 128, 1)\n",
      "(128, 10)\n",
      "(128, 128, 128, 1)\n",
      "(128, 10)\n",
      "(128, 128, 128, 1)\n",
      "(128, 10)\n",
      "(128, 128, 128, 1)\n",
      "(128, 10)\n",
      "(128, 128, 128, 1)\n",
      "(128, 2)\n",
      "(128, 128, 128, 1)\n",
      "(128, 2)\n",
      "(128, 128, 128, 1)\n",
      "(128, 2)\n",
      "(128, 128, 128, 1)\n",
      "(128, 2)\n",
      "(128, 128, 128, 1)\n",
      "(128, 2)\n",
      "(128, 128, 128, 1)\n",
      "(128, 2)\n",
      "(128, 128, 128, 1)\n",
      "(128, 2)\n",
      "(128, 128, 128, 1)\n",
      "(128, 2)\n",
      "(128, 128, 128, 1)\n",
      "(128, 2)\n",
      "(128, 128, 128, 1)\n",
      "(128, 2)\n",
      "(128, 128, 128, 1)\n",
      "(128, 2)\n",
      "(128, 128, 128, 1)\n",
      "(128, 2)\n",
      "(128, 128, 128, 1)\n",
      "(128, 2)\n",
      "(128, 128, 128, 1)\n",
      "(128, 2)\n",
      "(128, 128, 128, 1)\n",
      "(128, 2)\n",
      "(128, 128, 128, 1)\n",
      "(128, 2)\n",
      "(128, 128, 128, 1)\n",
      "(128, 2)\n",
      "(128, 128, 128, 1)\n",
      "(128, 2)\n",
      "(128, 128, 128, 1)\n",
      "(128, 2)\n",
      "(128, 128, 128, 1)\n",
      "(128, 2)\n"
     ]
    }
   ],
   "source": [
    "write_in_batches(train_dataset, 'train.tfrecord')\n",
    "del train_dataset\n",
    "write_in_batches(test_dataset, 'test.tfrecord')\n",
    "del test_dataset\n",
    "write_in_batches(train_coords_dataset, 'coords.tfrecord', True)\n",
    "del train_coords_dataset\n",
    "write_in_batches(test_coords_dataset, 'coords_test.tfrecord', True)\n",
    "del test_coords_dataset"
   ]
  }
 ],
 "metadata": {
  "kernelspec": {
   "display_name": "Python 3",
   "language": "python",
   "name": "python3"
  },
  "language_info": {
   "codemirror_mode": {
    "name": "ipython",
    "version": 3
   },
   "file_extension": ".py",
   "mimetype": "text/x-python",
   "name": "python",
   "nbconvert_exporter": "python",
   "pygments_lexer": "ipython3",
   "version": "3.11.9"
  }
 },
 "nbformat": 4,
 "nbformat_minor": 2
}
